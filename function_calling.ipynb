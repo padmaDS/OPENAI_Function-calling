{
 "cells": [
  {
   "cell_type": "code",
   "execution_count": 1,
   "metadata": {},
   "outputs": [],
   "source": [
    "import os\n",
    "import openai\n",
    "from dotenv import load_dotenv"
   ]
  },
  {
   "cell_type": "code",
   "execution_count": 2,
   "metadata": {},
   "outputs": [],
   "source": [
    "openai.api_key = os.getenv('OPENAI_API_KEY')"
   ]
  },
  {
   "cell_type": "code",
   "execution_count": 5,
   "metadata": {},
   "outputs": [],
   "source": [
    "completion = openai.ChatCompletion.create(\n",
    "    model = \"gpt-3.5-turbo\",\n",
    "    messages = [\n",
    "        {\"role\": \"system\", \"content\": \"you are a assistant which informs about the temparature\"},\n",
    "        {\"role\" : \"user\", \"content\" :\"hey there\"}\n",
    "    ]\n",
    "\n",
    ")"
   ]
  },
  {
   "cell_type": "code",
   "execution_count": 6,
   "metadata": {},
   "outputs": [
    {
     "name": "stdout",
     "output_type": "stream",
     "text": [
      "{\n",
      "  \"id\": \"chatcmpl-7ZdqL8Wz1tPsfeM6PvY6dn1OPLPoG\",\n",
      "  \"object\": \"chat.completion\",\n",
      "  \"created\": 1688728993,\n",
      "  \"model\": \"gpt-3.5-turbo-0613\",\n",
      "  \"choices\": [\n",
      "    {\n",
      "      \"index\": 0,\n",
      "      \"message\": {\n",
      "        \"role\": \"assistant\",\n",
      "        \"content\": \"Hello! How can I assist you today?\"\n",
      "      },\n",
      "      \"finish_reason\": \"stop\"\n",
      "    }\n",
      "  ],\n",
      "  \"usage\": {\n",
      "    \"prompt_tokens\": 24,\n",
      "    \"completion_tokens\": 9,\n",
      "    \"total_tokens\": 33\n",
      "  }\n",
      "}\n"
     ]
    }
   ],
   "source": [
    "print(completion)"
   ]
  },
  {
   "cell_type": "code",
   "execution_count": 9,
   "metadata": {},
   "outputs": [
    {
     "name": "stdout",
     "output_type": "stream",
     "text": [
      "{\n",
      "  \"index\": 0,\n",
      "  \"message\": {\n",
      "    \"role\": \"assistant\",\n",
      "    \"content\": \"Hello! How can I assist you today?\"\n",
      "  },\n",
      "  \"finish_reason\": \"stop\"\n",
      "}\n"
     ]
    }
   ],
   "source": [
    "print(completion.choices[0])"
   ]
  },
  {
   "cell_type": "code",
   "execution_count": 10,
   "metadata": {},
   "outputs": [
    {
     "name": "stdout",
     "output_type": "stream",
     "text": [
      "{\n",
      "  \"role\": \"assistant\",\n",
      "  \"content\": \"Hello! How can I assist you today?\"\n",
      "}\n"
     ]
    }
   ],
   "source": [
    "print(completion.choices[0].message)"
   ]
  },
  {
   "cell_type": "code",
   "execution_count": 24,
   "metadata": {},
   "outputs": [],
   "source": [
    "# Example dummy function hard coded to return the same weather\n",
    "# In production, this could be your backend API or an external API\n",
    "import requests\n",
    "def get_current_weather(location):\n",
    "    \"\"\"Get the current weather in a given location\"\"\"\n",
    "    url = \"https://ai-weather-by-meteosource.p.rapidapi.com/find_places\"\n",
    "    querystring = {\"text\":location}\n",
    "    headers = {\n",
    "\t\"X-RapidAPI-Key\": \"7fd4\",\n",
    "\t\"X-RapidAPI-Host\": \"aom\"\n",
    "}\n",
    "\n",
    "    response = requests.get(url, headers=headers, params=querystring)\n",
    "\n",
    "    print(response.json())\n",
    "    return response.json()"
   ]
  },
  {
   "cell_type": "code",
   "execution_count": 25,
   "metadata": {},
   "outputs": [
    {
     "name": "stdout",
     "output_type": "stream",
     "text": [
      "[{'name': 'Hyderabad', 'place_id': 'hyderabad', 'adm_area1': 'Telangana', 'adm_area2': 'Hyderabad', 'country': 'India', 'lat': '17.38405N', 'lon': '78.45636E', 'timezone': 'Asia/Kolkata', 'type': 'settlement'}, {'name': 'Hyderābād', 'place_id': 'hyderabad-1176734', 'adm_area1': 'Sindh', 'adm_area2': 'Hyderābād', 'country': 'Islamic Republic of Pakistan', 'lat': '25.39242N', 'lon': '68.37366E', 'timezone': 'Asia/Karachi', 'type': 'settlement'}, {'name': 'Chak Fifty-four', 'place_id': 'chak-fiftyfour-1382731', 'adm_area1': 'Punjab', 'adm_area2': 'Khānewāl', 'country': 'Islamic Republic of Pakistan', 'lat': '30.47827N', 'lon': '72.23856E', 'timezone': 'Asia/Karachi', 'type': 'settlement'}, {'name': 'Hyderabad', 'place_id': 'hyderabad-1418299', 'adm_area1': 'Punjab', 'adm_area2': 'Lodhrān', 'country': 'Islamic Republic of Pakistan', 'lat': '29.78445N', 'lon': '71.89209E', 'timezone': 'Asia/Karachi', 'type': 'settlement'}, {'name': 'Hyderabad', 'place_id': 'hyderabad-1177364', 'adm_area1': 'Punjab', 'adm_area2': 'Bhakkar', 'country': 'Islamic Republic of Pakistan', 'lat': '31.34602N', 'lon': '71.69621E', 'timezone': 'Asia/Karachi', 'type': 'settlement'}, {'name': 'Hyderabad', 'place_id': 'hyderabad-1362808', 'adm_area1': 'Sindh', 'adm_area2': 'Sānghar', 'country': 'Islamic Republic of Pakistan', 'lat': '25.5N', 'lon': '69.59444E', 'timezone': 'Asia/Karachi', 'type': 'settlement'}, {'name': 'Hyderabad', 'place_id': 'hyderabad-11452300', 'adm_area1': 'Punjab', 'adm_area2': 'Chakwāl', 'country': 'Islamic Republic of Pakistan', 'lat': '33.06676N', 'lon': '73.13763E', 'timezone': 'Asia/Karachi', 'type': 'settlement'}, {'name': 'Hyderabad Division', 'place_id': 'hyderabad-division', 'adm_area1': 'Sindh', 'adm_area2': None, 'country': 'Islamic Republic of Pakistan', 'lat': '25.31426N', 'lon': '68.04064E', 'timezone': 'Asia/Karachi', 'type': 'administrative_area'}, {'name': 'Hyderabad', 'place_id': 'hyderabad-1269844', 'adm_area1': 'Telangana', 'adm_area2': 'Hyderabad', 'country': 'India', 'lat': '17.40164N', 'lon': '78.48976E', 'timezone': 'Asia/Kolkata', 'type': 'administrative_area'}, {'name': 'Hyderābād', 'place_id': 'hyderabad-district-1176733', 'adm_area1': 'Sindh', 'adm_area2': 'Hyderābād', 'country': 'Islamic Republic of Pakistan', 'lat': '25.43244N', 'lon': '68.48421E', 'timezone': 'Asia/Karachi', 'type': 'administrative_area'}]\n"
     ]
    }
   ],
   "source": [
    "response=get_current_weather(\"Hyderabad\")"
   ]
  },
  {
   "cell_type": "code",
   "execution_count": 26,
   "metadata": {},
   "outputs": [
    {
     "data": {
      "text/plain": [
       "[{'name': 'Hyderabad',\n",
       "  'place_id': 'hyderabad',\n",
       "  'adm_area1': 'Telangana',\n",
       "  'adm_area2': 'Hyderabad',\n",
       "  'country': 'India',\n",
       "  'lat': '17.38405N',\n",
       "  'lon': '78.45636E',\n",
       "  'timezone': 'Asia/Kolkata',\n",
       "  'type': 'settlement'},\n",
       " {'name': 'Hyderābād',\n",
       "  'place_id': 'hyderabad-1176734',\n",
       "  'adm_area1': 'Sindh',\n",
       "  'adm_area2': 'Hyderābād',\n",
       "  'country': 'Islamic Republic of Pakistan',\n",
       "  'lat': '25.39242N',\n",
       "  'lon': '68.37366E',\n",
       "  'timezone': 'Asia/Karachi',\n",
       "  'type': 'settlement'},\n",
       " {'name': 'Chak Fifty-four',\n",
       "  'place_id': 'chak-fiftyfour-1382731',\n",
       "  'adm_area1': 'Punjab',\n",
       "  'adm_area2': 'Khānewāl',\n",
       "  'country': 'Islamic Republic of Pakistan',\n",
       "  'lat': '30.47827N',\n",
       "  'lon': '72.23856E',\n",
       "  'timezone': 'Asia/Karachi',\n",
       "  'type': 'settlement'},\n",
       " {'name': 'Hyderabad',\n",
       "  'place_id': 'hyderabad-1418299',\n",
       "  'adm_area1': 'Punjab',\n",
       "  'adm_area2': 'Lodhrān',\n",
       "  'country': 'Islamic Republic of Pakistan',\n",
       "  'lat': '29.78445N',\n",
       "  'lon': '71.89209E',\n",
       "  'timezone': 'Asia/Karachi',\n",
       "  'type': 'settlement'},\n",
       " {'name': 'Hyderabad',\n",
       "  'place_id': 'hyderabad-1177364',\n",
       "  'adm_area1': 'Punjab',\n",
       "  'adm_area2': 'Bhakkar',\n",
       "  'country': 'Islamic Republic of Pakistan',\n",
       "  'lat': '31.34602N',\n",
       "  'lon': '71.69621E',\n",
       "  'timezone': 'Asia/Karachi',\n",
       "  'type': 'settlement'},\n",
       " {'name': 'Hyderabad',\n",
       "  'place_id': 'hyderabad-1362808',\n",
       "  'adm_area1': 'Sindh',\n",
       "  'adm_area2': 'Sānghar',\n",
       "  'country': 'Islamic Republic of Pakistan',\n",
       "  'lat': '25.5N',\n",
       "  'lon': '69.59444E',\n",
       "  'timezone': 'Asia/Karachi',\n",
       "  'type': 'settlement'},\n",
       " {'name': 'Hyderabad',\n",
       "  'place_id': 'hyderabad-11452300',\n",
       "  'adm_area1': 'Punjab',\n",
       "  'adm_area2': 'Chakwāl',\n",
       "  'country': 'Islamic Republic of Pakistan',\n",
       "  'lat': '33.06676N',\n",
       "  'lon': '73.13763E',\n",
       "  'timezone': 'Asia/Karachi',\n",
       "  'type': 'settlement'},\n",
       " {'name': 'Hyderabad Division',\n",
       "  'place_id': 'hyderabad-division',\n",
       "  'adm_area1': 'Sindh',\n",
       "  'adm_area2': None,\n",
       "  'country': 'Islamic Republic of Pakistan',\n",
       "  'lat': '25.31426N',\n",
       "  'lon': '68.04064E',\n",
       "  'timezone': 'Asia/Karachi',\n",
       "  'type': 'administrative_area'},\n",
       " {'name': 'Hyderabad',\n",
       "  'place_id': 'hyderabad-1269844',\n",
       "  'adm_area1': 'Telangana',\n",
       "  'adm_area2': 'Hyderabad',\n",
       "  'country': 'India',\n",
       "  'lat': '17.40164N',\n",
       "  'lon': '78.48976E',\n",
       "  'timezone': 'Asia/Kolkata',\n",
       "  'type': 'administrative_area'},\n",
       " {'name': 'Hyderābād',\n",
       "  'place_id': 'hyderabad-district-1176733',\n",
       "  'adm_area1': 'Sindh',\n",
       "  'adm_area2': 'Hyderābād',\n",
       "  'country': 'Islamic Republic of Pakistan',\n",
       "  'lat': '25.43244N',\n",
       "  'lon': '68.48421E',\n",
       "  'timezone': 'Asia/Karachi',\n",
       "  'type': 'administrative_area'}]"
      ]
     },
     "execution_count": 26,
     "metadata": {},
     "output_type": "execute_result"
    }
   ],
   "source": [
    "response"
   ]
  },
  {
   "cell_type": "code",
   "execution_count": 27,
   "metadata": {},
   "outputs": [
    {
     "name": "stdout",
     "output_type": "stream",
     "text": [
      "[{'name': 'Kadapa', 'place_id': 'cuddapah', 'adm_area1': 'Andhra Pradesh', 'adm_area2': 'Y.S.R.', 'country': 'India', 'lat': '14.47995N', 'lon': '78.82346E', 'timezone': 'Asia/Kolkata', 'type': 'settlement'}, {'name': 'Kadapa', 'place_id': 'kadapa-11501808', 'adm_area1': 'Kerala', 'adm_area2': 'Kollam', 'country': 'India', 'lat': '9.04247N', 'lon': '76.58427E', 'timezone': 'Asia/Kolkata', 'type': 'settlement'}, {'name': 'Kadapa', 'place_id': 'kadapa-11501811', 'adm_area1': 'Kerala', 'adm_area2': 'Kollam', 'country': 'India', 'lat': '9.02938N', 'lon': '76.59943E', 'timezone': 'Asia/Kolkata', 'type': 'settlement'}, {'name': 'Y.S.R.', 'place_id': 'cuddapah-1273801', 'adm_area1': 'Andhra Pradesh', 'adm_area2': 'Y.S.R.', 'country': 'India', 'lat': '14.41667N', 'lon': '78.75E', 'timezone': 'Asia/Kolkata', 'type': 'administrative_area'}, {'name': 'Kadapa Airport', 'place_id': 'kadapa-airport', 'adm_area1': 'Andhra Pradesh', 'adm_area2': 'Y.S.R.', 'country': 'India', 'lat': '14.50996N', 'lon': '78.77283E', 'timezone': 'Asia/Kolkata', 'type': 'airport'}]\n"
     ]
    }
   ],
   "source": [
    "response=get_current_weather(\"kadapa\")"
   ]
  },
  {
   "cell_type": "code",
   "execution_count": 28,
   "metadata": {},
   "outputs": [
    {
     "data": {
      "text/plain": [
       "[{'name': 'Kadapa',\n",
       "  'place_id': 'cuddapah',\n",
       "  'adm_area1': 'Andhra Pradesh',\n",
       "  'adm_area2': 'Y.S.R.',\n",
       "  'country': 'India',\n",
       "  'lat': '14.47995N',\n",
       "  'lon': '78.82346E',\n",
       "  'timezone': 'Asia/Kolkata',\n",
       "  'type': 'settlement'},\n",
       " {'name': 'Kadapa',\n",
       "  'place_id': 'kadapa-11501808',\n",
       "  'adm_area1': 'Kerala',\n",
       "  'adm_area2': 'Kollam',\n",
       "  'country': 'India',\n",
       "  'lat': '9.04247N',\n",
       "  'lon': '76.58427E',\n",
       "  'timezone': 'Asia/Kolkata',\n",
       "  'type': 'settlement'},\n",
       " {'name': 'Kadapa',\n",
       "  'place_id': 'kadapa-11501811',\n",
       "  'adm_area1': 'Kerala',\n",
       "  'adm_area2': 'Kollam',\n",
       "  'country': 'India',\n",
       "  'lat': '9.02938N',\n",
       "  'lon': '76.59943E',\n",
       "  'timezone': 'Asia/Kolkata',\n",
       "  'type': 'settlement'},\n",
       " {'name': 'Y.S.R.',\n",
       "  'place_id': 'cuddapah-1273801',\n",
       "  'adm_area1': 'Andhra Pradesh',\n",
       "  'adm_area2': 'Y.S.R.',\n",
       "  'country': 'India',\n",
       "  'lat': '14.41667N',\n",
       "  'lon': '78.75E',\n",
       "  'timezone': 'Asia/Kolkata',\n",
       "  'type': 'administrative_area'},\n",
       " {'name': 'Kadapa Airport',\n",
       "  'place_id': 'kadapa-airport',\n",
       "  'adm_area1': 'Andhra Pradesh',\n",
       "  'adm_area2': 'Y.S.R.',\n",
       "  'country': 'India',\n",
       "  'lat': '14.50996N',\n",
       "  'lon': '78.77283E',\n",
       "  'timezone': 'Asia/Kolkata',\n",
       "  'type': 'airport'}]"
      ]
     },
     "execution_count": 28,
     "metadata": {},
     "output_type": "execute_result"
    }
   ],
   "source": [
    "response"
   ]
  },
  {
   "cell_type": "code",
   "execution_count": 29,
   "metadata": {},
   "outputs": [],
   "source": [
    "functions = [\n",
    "        {\n",
    "            \"name\": \"get_current_weather\",\n",
    "            \"description\": \"Get the current weather in a given location\",\n",
    "            \"parameters\": {\n",
    "                \"type\": \"object\",\n",
    "                \"properties\": {\n",
    "                    \"location\": {\n",
    "                        \"type\": \"string\",\n",
    "                        \"description\": \"The city and state, e.g. San Francisco, CA\",\n",
    "                    },\n",
    "                    \n",
    "                },\n",
    "                \"required\": [\"location\"],\n",
    "            },\n",
    "        }\n",
    "    ]"
   ]
  },
  {
   "cell_type": "code",
   "execution_count": 30,
   "metadata": {},
   "outputs": [
    {
     "data": {
      "text/plain": [
       "[{'name': 'get_current_weather',\n",
       "  'description': 'Get the current weather in a given location',\n",
       "  'parameters': {'type': 'object',\n",
       "   'properties': {'location': {'type': 'string',\n",
       "     'description': 'The city and state, e.g. San Francisco, CA'}},\n",
       "   'required': ['location']}}]"
      ]
     },
     "execution_count": 30,
     "metadata": {},
     "output_type": "execute_result"
    }
   ],
   "source": [
    "functions"
   ]
  },
  {
   "cell_type": "code",
   "execution_count": 31,
   "metadata": {},
   "outputs": [],
   "source": [
    "user_message=\"Hi There\"\n",
    "messages=[]\n",
    "messages.append({\"role\": \"user\", \"content\":user_message})\n",
    "completion=openai.ChatCompletion.create(\n",
    "    model=\"gpt-3.5-turbo\",\n",
    "    messages=\n",
    "       messages\n",
    "    \n",
    ")"
   ]
  },
  {
   "cell_type": "code",
   "execution_count": 32,
   "metadata": {},
   "outputs": [
    {
     "name": "stdout",
     "output_type": "stream",
     "text": [
      "{\n",
      "  \"id\": \"chatcmpl-7Ze5T4TH5DFmPyj9ASDWc1pjWWAjk\",\n",
      "  \"object\": \"chat.completion\",\n",
      "  \"created\": 1688729931,\n",
      "  \"model\": \"gpt-3.5-turbo-0613\",\n",
      "  \"choices\": [\n",
      "    {\n",
      "      \"index\": 0,\n",
      "      \"message\": {\n",
      "        \"role\": \"assistant\",\n",
      "        \"content\": \"Hello! How can I assist you today?\"\n",
      "      },\n",
      "      \"finish_reason\": \"stop\"\n",
      "    }\n",
      "  ],\n",
      "  \"usage\": {\n",
      "    \"prompt_tokens\": 9,\n",
      "    \"completion_tokens\": 9,\n",
      "    \"total_tokens\": 18\n",
      "  }\n",
      "}\n"
     ]
    }
   ],
   "source": [
    "print(completion)"
   ]
  },
  {
   "cell_type": "code",
   "execution_count": 33,
   "metadata": {},
   "outputs": [
    {
     "name": "stdout",
     "output_type": "stream",
     "text": [
      "{\n",
      "  \"role\": \"assistant\",\n",
      "  \"content\": \"Hello! How can I assist you today?\"\n",
      "}\n"
     ]
    }
   ],
   "source": [
    "print(completion.choices[0].message)"
   ]
  },
  {
   "cell_type": "code",
   "execution_count": 34,
   "metadata": {},
   "outputs": [
    {
     "data": {
      "text/plain": [
       "[{'role': 'user', 'content': 'Hi There'}]"
      ]
     },
     "execution_count": 34,
     "metadata": {},
     "output_type": "execute_result"
    }
   ],
   "source": [
    "messages"
   ]
  },
  {
   "cell_type": "code",
   "execution_count": 37,
   "metadata": {},
   "outputs": [],
   "source": [
    "user_message=\"What is the temperature of Kadapa\"\n",
    "\n",
    "messages.append({\"role\": \"user\", \"content\": user_message})\n",
    "completion=openai.ChatCompletion.create(\n",
    "    model=\"gpt-3.5-turbo-0613\",\n",
    "    messages=messages,\n",
    "    functions=functions\n",
    "    \n",
    ")"
   ]
  },
  {
   "cell_type": "code",
   "execution_count": 38,
   "metadata": {},
   "outputs": [
    {
     "data": {
      "text/plain": [
       "[{'role': 'user', 'content': 'Hi There'},\n",
       " {'role': 'user', 'content': 'What is the temperature of Bangalore'},\n",
       " {'role': 'user', 'content': 'What is the temperature of Kadapa'}]"
      ]
     },
     "execution_count": 38,
     "metadata": {},
     "output_type": "execute_result"
    }
   ],
   "source": [
    "messages"
   ]
  },
  {
   "cell_type": "code",
   "execution_count": 39,
   "metadata": {},
   "outputs": [
    {
     "data": {
      "text/plain": [
       "<OpenAIObject chat.completion id=chatcmpl-7Ze760KqzXtyhZND9MT0DSgRJ9XLX at 0x1fc1665a3b0> JSON: {\n",
       "  \"id\": \"chatcmpl-7Ze760KqzXtyhZND9MT0DSgRJ9XLX\",\n",
       "  \"object\": \"chat.completion\",\n",
       "  \"created\": 1688730032,\n",
       "  \"model\": \"gpt-3.5-turbo-0613\",\n",
       "  \"choices\": [\n",
       "    {\n",
       "      \"index\": 0,\n",
       "      \"message\": {\n",
       "        \"role\": \"assistant\",\n",
       "        \"content\": null,\n",
       "        \"function_call\": {\n",
       "          \"name\": \"get_current_weather\",\n",
       "          \"arguments\": \"{\\n  \\\"location\\\": \\\"Kadapa\\\"\\n}\"\n",
       "        }\n",
       "      },\n",
       "      \"finish_reason\": \"function_call\"\n",
       "    }\n",
       "  ],\n",
       "  \"usage\": {\n",
       "    \"prompt_tokens\": 86,\n",
       "    \"completion_tokens\": 18,\n",
       "    \"total_tokens\": 104\n",
       "  }\n",
       "}"
      ]
     },
     "execution_count": 39,
     "metadata": {},
     "output_type": "execute_result"
    }
   ],
   "source": [
    "completion"
   ]
  },
  {
   "cell_type": "code",
   "execution_count": 49,
   "metadata": {},
   "outputs": [],
   "source": [
    "response = completion.choices[0].message"
   ]
  },
  {
   "cell_type": "code",
   "execution_count": 50,
   "metadata": {},
   "outputs": [
    {
     "data": {
      "text/plain": [
       "<OpenAIObject at 0x1fc1665aef0> JSON: {\n",
       "  \"role\": \"assistant\",\n",
       "  \"content\": null,\n",
       "  \"function_call\": {\n",
       "    \"name\": \"get_current_weather\",\n",
       "    \"arguments\": \"{\\n  \\\"location\\\": \\\"Kadapa\\\"\\n}\"\n",
       "  }\n",
       "}"
      ]
     },
     "execution_count": 50,
     "metadata": {},
     "output_type": "execute_result"
    }
   ],
   "source": [
    "response"
   ]
  },
  {
   "cell_type": "code",
   "execution_count": 51,
   "metadata": {},
   "outputs": [
    {
     "data": {
      "text/plain": [
       "<OpenAIObject at 0x1fc1665a950> JSON: {\n",
       "  \"name\": \"get_current_weather\",\n",
       "  \"arguments\": \"{\\n  \\\"location\\\": \\\"Kadapa\\\"\\n}\"\n",
       "}"
      ]
     },
     "execution_count": 51,
     "metadata": {},
     "output_type": "execute_result"
    }
   ],
   "source": [
    "response['function_call']\n"
   ]
  },
  {
   "cell_type": "code",
   "execution_count": 52,
   "metadata": {},
   "outputs": [
    {
     "data": {
      "text/plain": [
       "'get_current_weather'"
      ]
     },
     "execution_count": 52,
     "metadata": {},
     "output_type": "execute_result"
    }
   ],
   "source": [
    "response['function_call']['name']"
   ]
  },
  {
   "cell_type": "code",
   "execution_count": 53,
   "metadata": {},
   "outputs": [
    {
     "name": "stdout",
     "output_type": "stream",
     "text": [
      "get_current_weather\n"
     ]
    }
   ],
   "source": [
    "function_name=response['function_call']['name']\n",
    "print(function_name)"
   ]
  },
  {
   "cell_type": "code",
   "execution_count": 54,
   "metadata": {},
   "outputs": [
    {
     "name": "stdout",
     "output_type": "stream",
     "text": [
      "Kadapa\n"
     ]
    }
   ],
   "source": [
    "import json\n",
    "location=eval(response['function_call']['arguments'])['location']\n",
    "print(location)"
   ]
  },
  {
   "cell_type": "code",
   "execution_count": 55,
   "metadata": {},
   "outputs": [],
   "source": [
    "# Step 4: send the info on the function call and function response to GPT\n",
    "messages.append(response)  # extend conversation with assistant's reply\n",
    "messages.append(\n",
    "    {\n",
    "        \"role\": \"function\",\n",
    "        \"name\": function_name,\n",
    "        \"content\": location,\n",
    "    }\n",
    ")"
   ]
  },
  {
   "cell_type": "code",
   "execution_count": 56,
   "metadata": {},
   "outputs": [
    {
     "data": {
      "text/plain": [
       "[{'role': 'user', 'content': 'Hi There'},\n",
       " {'role': 'user', 'content': 'What is the temperature of Bangalore'},\n",
       " {'role': 'user', 'content': 'What is the temperature of Kadapa'},\n",
       " <OpenAIObject at 0x1fc1665aef0> JSON: {\n",
       "   \"role\": \"assistant\",\n",
       "   \"content\": null,\n",
       "   \"function_call\": {\n",
       "     \"name\": \"get_current_weather\",\n",
       "     \"arguments\": \"{\\n  \\\"location\\\": \\\"Kadapa\\\"\\n}\"\n",
       "   }\n",
       " },\n",
       " {'role': 'function', 'name': 'get_current_weather', 'content': 'Kadapa'}]"
      ]
     },
     "execution_count": 56,
     "metadata": {},
     "output_type": "execute_result"
    }
   ],
   "source": [
    "messages"
   ]
  },
  {
   "cell_type": "code",
   "execution_count": 57,
   "metadata": {},
   "outputs": [],
   "source": [
    "# extend conversation with function response\n",
    "second_response = openai.ChatCompletion.create(\n",
    "    model=\"gpt-3.5-turbo-0613\",\n",
    "    messages=messages,\n",
    "    functions=functions\n",
    ")  # get a new response from GPT where it can see the function response"
   ]
  },
  {
   "cell_type": "code",
   "execution_count": 58,
   "metadata": {},
   "outputs": [
    {
     "name": "stdout",
     "output_type": "stream",
     "text": [
      "{\n",
      "  \"role\": \"assistant\",\n",
      "  \"content\": \"I'm sorry, but I don't have access to real-time weather data.\"\n",
      "}\n"
     ]
    }
   ],
   "source": [
    "print(second_response.choices[0].message)"
   ]
  },
  {
   "cell_type": "code",
   "execution_count": 59,
   "metadata": {},
   "outputs": [
    {
     "data": {
      "text/plain": [
       "<OpenAIObject chat.completion id=chatcmpl-7ZfQ4du6pHqfCg9O5YCQMDFoItcMp at 0x1fc1661c680> JSON: {\n",
       "  \"id\": \"chatcmpl-7ZfQ4du6pHqfCg9O5YCQMDFoItcMp\",\n",
       "  \"object\": \"chat.completion\",\n",
       "  \"created\": 1688735052,\n",
       "  \"model\": \"gpt-3.5-turbo-0613\",\n",
       "  \"choices\": [\n",
       "    {\n",
       "      \"index\": 0,\n",
       "      \"message\": {\n",
       "        \"role\": \"assistant\",\n",
       "        \"content\": \"I'm sorry, but I don't have access to real-time weather data.\"\n",
       "      },\n",
       "      \"finish_reason\": \"stop\"\n",
       "    }\n",
       "  ],\n",
       "  \"usage\": {\n",
       "    \"prompt_tokens\": 116,\n",
       "    \"completion_tokens\": 17,\n",
       "    \"total_tokens\": 133\n",
       "  }\n",
       "}"
      ]
     },
     "execution_count": 59,
     "metadata": {},
     "output_type": "execute_result"
    }
   ],
   "source": [
    "second_response"
   ]
  },
  {
   "cell_type": "code",
   "execution_count": null,
   "metadata": {},
   "outputs": [],
   "source": []
  }
 ],
 "metadata": {
  "kernelspec": {
   "display_name": "open",
   "language": "python",
   "name": "python3"
  },
  "language_info": {
   "codemirror_mode": {
    "name": "ipython",
    "version": 3
   },
   "file_extension": ".py",
   "mimetype": "text/x-python",
   "name": "python",
   "nbconvert_exporter": "python",
   "pygments_lexer": "ipython3",
   "version": "3.9.17"
  },
  "orig_nbformat": 4
 },
 "nbformat": 4,
 "nbformat_minor": 2
}
